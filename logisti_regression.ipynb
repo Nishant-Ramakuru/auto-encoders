{
 "cells": [
  {
   "cell_type": "code",
   "execution_count": 22,
   "metadata": {
    "collapsed": true
   },
   "outputs": [],
   "source": [
    "import pandas as pd\n",
    "from sklearn.preprocessing import StandardScaler\n",
    "from sklearn.linear_model import LogisticRegression\n",
    "import joblib\n",
    "from math import exp"
   ]
  },
  {
   "cell_type": "code",
   "execution_count": 2,
   "metadata": {
    "collapsed": true
   },
   "outputs": [],
   "source": [
    "dataframe = pd.read_csv(\"dataset_final.csv\",parse_dates=True,index_col='time_index')"
   ]
  },
  {
   "cell_type": "code",
   "execution_count": 4,
   "metadata": {
    "collapsed": true
   },
   "outputs": [],
   "source": [
    "features = pd.read_csv('autoencoders_features.csv').features"
   ]
  },
  {
   "cell_type": "code",
   "execution_count": 5,
   "metadata": {},
   "outputs": [
    {
     "name": "stderr",
     "output_type": "stream",
     "text": [
      "C:\\Users\\BB-8\\AppData\\Roaming\\Python\\Python36\\site-packages\\sklearn\\linear_model\\logistic.py:1228: UserWarning: 'n_jobs' > 1 does not have any effect when 'solver' is set to 'liblinear'. Got 'n_jobs' = -1.\n",
      "  \" = {}.\".format(self.n_jobs))\n"
     ]
    },
    {
     "data": {
      "text/plain": [
       "['logistic_model.sav']"
      ]
     },
     "execution_count": 5,
     "metadata": {},
     "output_type": "execute_result"
    }
   ],
   "source": [
    "scaler = StandardScaler()\n",
    "tags_dataframe = scaler.fit_transform(dataframe[features])\n",
    "\n",
    "#saving scaling object\n",
    "filename = 'scalar_object.sav'\n",
    "joblib.dump(scaler, filename)\n",
    "\n",
    "model = LogisticRegression(class_weight = 'balanced',n_jobs=-1,penalty='l2')\n",
    "model.fit(tags_dataframe,dataframe.event)\n",
    "\n",
    "filename = 'logistic_model.sav'\n",
    "joblib.dump(model, filename)\n"
   ]
  },
  {
   "cell_type": "code",
   "execution_count": 33,
   "metadata": {},
   "outputs": [],
   "source": [
    "df_feature_imp = pd.DataFrame()\n",
    "df_feature_imp['features'] = features\n",
    "df_feature_imp['imp'] = model.coef_.tolist()[0]\n",
    "df_feature_imp.index = features\n",
    "df_feature_imp.drop(['features'],axis=1,inplace=True)"
   ]
  },
  {
   "cell_type": "code",
   "execution_count": 34,
   "metadata": {
    "collapsed": true
   },
   "outputs": [],
   "source": [
    "df_feature_imp.to_csv('logistic_model_coefficient.csv')"
   ]
  },
  {
   "cell_type": "code",
   "execution_count": 35,
   "metadata": {
    "collapsed": true
   },
   "outputs": [],
   "source": [
    "df_coef = pd.read_csv('logistic_model_coefficient.csv',index_col='features')"
   ]
  },
  {
   "cell_type": "code",
   "execution_count": 58,
   "metadata": {},
   "outputs": [],
   "source": [
    "tags_dataframe_prediction = scaler.transform(dataframe[features].tail(1))\n",
    "dict_flow_indicators = dict()\n",
    "logistic_equation = df_coef.imp * tags_dataframe_prediction[0]"
   ]
  },
  {
   "cell_type": "code",
   "execution_count": 59,
   "metadata": {},
   "outputs": [],
   "source": [
    "summarize_equation = logistic_equation.sum()\n",
    "tags_probability = 1 / (1 + exp(-summarize_equation))  "
   ]
  },
  {
   "cell_type": "code",
   "execution_count": 69,
   "metadata": {},
   "outputs": [],
   "source": [
    "if tags_probability > 0.5:\n",
    "\n",
    "    top_three_controllers_flow_indicator =logistic_equation.abs().sort_values(ascending=False).head(10).index.tolist()\n",
    "\n",
    "    for i in top_three_controllers_flow_indicator:\n",
    "        if df_coef.loc[i].values[0]>0:\n",
    "            dict_flow_indicators[i]='Down'\n",
    "        else:\n",
    "            dict_flow_indicators[i]='Up'\n",
    "else:\n",
    "    print(\"None\")"
   ]
  },
  {
   "cell_type": "code",
   "execution_count": 70,
   "metadata": {},
   "outputs": [
    {
     "data": {
      "text/plain": [
       "{'Line_12_Current_L4_W20_mean': 'Up',\n",
       " 'Line_12_Current_L4_W30_mean': 'Up',\n",
       " 'Line_12_Current_L4_W5_mean': 'Down',\n",
       " 'Line_12_Temp_L4_W10_mean': 'Down',\n",
       " 'Line_12_Temp_L4_W5_mean': 'Up',\n",
       " 'Line_12_Velocity_W10_mean': 'Down',\n",
       " 'Line_12_Velocity_W15_mean': 'Down',\n",
       " 'Line_12_Velocity_W20_mean': 'Down',\n",
       " 'Line_12_Velocity_W30_mean': 'Down',\n",
       " 'Line_12_Velocity_W5_mean': 'Up'}"
      ]
     },
     "execution_count": 70,
     "metadata": {},
     "output_type": "execute_result"
    }
   ],
   "source": [
    "dict_flow_indicators"
   ]
  },
  {
   "cell_type": "code",
   "execution_count": null,
   "metadata": {
    "collapsed": true
   },
   "outputs": [],
   "source": []
  }
 ],
 "metadata": {
  "kernelspec": {
   "display_name": "Python 3",
   "language": "python",
   "name": "python3"
  },
  "language_info": {
   "codemirror_mode": {
    "name": "ipython",
    "version": 3
   },
   "file_extension": ".py",
   "mimetype": "text/x-python",
   "name": "python",
   "nbconvert_exporter": "python",
   "pygments_lexer": "ipython3",
   "version": "3.6.6"
  }
 },
 "nbformat": 4,
 "nbformat_minor": 2
}
